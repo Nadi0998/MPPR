{
 "cells": [
  {
   "cell_type": "code",
   "execution_count": 1,
   "metadata": {
    "_cell_guid": "b1076dfc-b9ad-4769-8c92-a6c4dae69d19",
    "_uuid": "8f2839f25d086af736a60e9eeb907d3b93b6e0e5",
    "scrolled": true
   },
   "outputs": [
    {
     "name": "stderr",
     "output_type": "stream",
     "text": [
      "Using TensorFlow backend.\n",
      "C:\\Users\\pisar\\Anaconda3\\lib\\site-packages\\tensorflow\\python\\framework\\dtypes.py:516: FutureWarning: Passing (type, 1) or '1type' as a synonym of type is deprecated; in a future version of numpy, it will be understood as (type, (1,)) / '(1,)type'.\n",
      "  _np_qint8 = np.dtype([(\"qint8\", np.int8, 1)])\n",
      "C:\\Users\\pisar\\Anaconda3\\lib\\site-packages\\tensorflow\\python\\framework\\dtypes.py:517: FutureWarning: Passing (type, 1) or '1type' as a synonym of type is deprecated; in a future version of numpy, it will be understood as (type, (1,)) / '(1,)type'.\n",
      "  _np_quint8 = np.dtype([(\"quint8\", np.uint8, 1)])\n",
      "C:\\Users\\pisar\\Anaconda3\\lib\\site-packages\\tensorflow\\python\\framework\\dtypes.py:518: FutureWarning: Passing (type, 1) or '1type' as a synonym of type is deprecated; in a future version of numpy, it will be understood as (type, (1,)) / '(1,)type'.\n",
      "  _np_qint16 = np.dtype([(\"qint16\", np.int16, 1)])\n",
      "C:\\Users\\pisar\\Anaconda3\\lib\\site-packages\\tensorflow\\python\\framework\\dtypes.py:519: FutureWarning: Passing (type, 1) or '1type' as a synonym of type is deprecated; in a future version of numpy, it will be understood as (type, (1,)) / '(1,)type'.\n",
      "  _np_quint16 = np.dtype([(\"quint16\", np.uint16, 1)])\n",
      "C:\\Users\\pisar\\Anaconda3\\lib\\site-packages\\tensorflow\\python\\framework\\dtypes.py:520: FutureWarning: Passing (type, 1) or '1type' as a synonym of type is deprecated; in a future version of numpy, it will be understood as (type, (1,)) / '(1,)type'.\n",
      "  _np_qint32 = np.dtype([(\"qint32\", np.int32, 1)])\n",
      "C:\\Users\\pisar\\Anaconda3\\lib\\site-packages\\tensorflow\\python\\framework\\dtypes.py:525: FutureWarning: Passing (type, 1) or '1type' as a synonym of type is deprecated; in a future version of numpy, it will be understood as (type, (1,)) / '(1,)type'.\n",
      "  np_resource = np.dtype([(\"resource\", np.ubyte, 1)])\n",
      "C:\\Users\\pisar\\Anaconda3\\lib\\site-packages\\tensorboard\\compat\\tensorflow_stub\\dtypes.py:541: FutureWarning: Passing (type, 1) or '1type' as a synonym of type is deprecated; in a future version of numpy, it will be understood as (type, (1,)) / '(1,)type'.\n",
      "  _np_qint8 = np.dtype([(\"qint8\", np.int8, 1)])\n",
      "C:\\Users\\pisar\\Anaconda3\\lib\\site-packages\\tensorboard\\compat\\tensorflow_stub\\dtypes.py:542: FutureWarning: Passing (type, 1) or '1type' as a synonym of type is deprecated; in a future version of numpy, it will be understood as (type, (1,)) / '(1,)type'.\n",
      "  _np_quint8 = np.dtype([(\"quint8\", np.uint8, 1)])\n",
      "C:\\Users\\pisar\\Anaconda3\\lib\\site-packages\\tensorboard\\compat\\tensorflow_stub\\dtypes.py:543: FutureWarning: Passing (type, 1) or '1type' as a synonym of type is deprecated; in a future version of numpy, it will be understood as (type, (1,)) / '(1,)type'.\n",
      "  _np_qint16 = np.dtype([(\"qint16\", np.int16, 1)])\n",
      "C:\\Users\\pisar\\Anaconda3\\lib\\site-packages\\tensorboard\\compat\\tensorflow_stub\\dtypes.py:544: FutureWarning: Passing (type, 1) or '1type' as a synonym of type is deprecated; in a future version of numpy, it will be understood as (type, (1,)) / '(1,)type'.\n",
      "  _np_quint16 = np.dtype([(\"quint16\", np.uint16, 1)])\n",
      "C:\\Users\\pisar\\Anaconda3\\lib\\site-packages\\tensorboard\\compat\\tensorflow_stub\\dtypes.py:545: FutureWarning: Passing (type, 1) or '1type' as a synonym of type is deprecated; in a future version of numpy, it will be understood as (type, (1,)) / '(1,)type'.\n",
      "  _np_qint32 = np.dtype([(\"qint32\", np.int32, 1)])\n",
      "C:\\Users\\pisar\\Anaconda3\\lib\\site-packages\\tensorboard\\compat\\tensorflow_stub\\dtypes.py:550: FutureWarning: Passing (type, 1) or '1type' as a synonym of type is deprecated; in a future version of numpy, it will be understood as (type, (1,)) / '(1,)type'.\n",
      "  np_resource = np.dtype([(\"resource\", np.ubyte, 1)])\n"
     ]
    }
   ],
   "source": [
    "import numpy as np\n",
    "import pandas as pd\n",
    "from sklearn.model_selection import train_test_split\n",
    "import keras\n",
    "from keras.layers import Dense, Dropout, Flatten\n",
    "from keras.models import Sequential\n",
    "from keras import optimizers\n",
    "from keras.optimizers import RMSprop, Adagrad, Adadelta\n",
    "import matplotlib.pyplot as plt"
   ]
  },
  {
   "cell_type": "code",
   "execution_count": 2,
   "metadata": {
    "_cell_guid": "79c7e3d0-c299-4dcb-8224-4455121ee9b0",
    "_uuid": "d629ff2d2480ee46fbb7e2d37f6b5fab8052498a"
   },
   "outputs": [],
   "source": [
    "df = pd.read_csv('./train.csv')"
   ]
  },
  {
   "cell_type": "code",
   "execution_count": 3,
   "metadata": {
    "_uuid": "a8dc0ce49e59ed4a1fa6046caebece00453f4c63"
   },
   "outputs": [],
   "source": [
    "pixels = df.columns.drop('label')\n",
    "y_column = 'label'"
   ]
  },
  {
   "cell_type": "code",
   "execution_count": 4,
   "metadata": {
    "_uuid": "b6227000c5555e944f7bf139e280939765fb369b"
   },
   "outputs": [
    {
     "data": {
      "text/html": [
       "<div>\n",
       "<style scoped>\n",
       "    .dataframe tbody tr th:only-of-type {\n",
       "        vertical-align: middle;\n",
       "    }\n",
       "\n",
       "    .dataframe tbody tr th {\n",
       "        vertical-align: top;\n",
       "    }\n",
       "\n",
       "    .dataframe thead th {\n",
       "        text-align: right;\n",
       "    }\n",
       "</style>\n",
       "<table border=\"1\" class=\"dataframe\">\n",
       "  <thead>\n",
       "    <tr style=\"text-align: right;\">\n",
       "      <th></th>\n",
       "      <th>label</th>\n",
       "      <th>pixel0</th>\n",
       "      <th>pixel1</th>\n",
       "      <th>pixel2</th>\n",
       "      <th>pixel3</th>\n",
       "      <th>pixel4</th>\n",
       "      <th>pixel5</th>\n",
       "      <th>pixel6</th>\n",
       "      <th>pixel7</th>\n",
       "      <th>pixel8</th>\n",
       "      <th>...</th>\n",
       "      <th>pixel774</th>\n",
       "      <th>pixel775</th>\n",
       "      <th>pixel776</th>\n",
       "      <th>pixel777</th>\n",
       "      <th>pixel778</th>\n",
       "      <th>pixel779</th>\n",
       "      <th>pixel780</th>\n",
       "      <th>pixel781</th>\n",
       "      <th>pixel782</th>\n",
       "      <th>pixel783</th>\n",
       "    </tr>\n",
       "  </thead>\n",
       "  <tbody>\n",
       "    <tr>\n",
       "      <th>0</th>\n",
       "      <td>1</td>\n",
       "      <td>0</td>\n",
       "      <td>0</td>\n",
       "      <td>0</td>\n",
       "      <td>0</td>\n",
       "      <td>0</td>\n",
       "      <td>0</td>\n",
       "      <td>0</td>\n",
       "      <td>0</td>\n",
       "      <td>0</td>\n",
       "      <td>...</td>\n",
       "      <td>0</td>\n",
       "      <td>0</td>\n",
       "      <td>0</td>\n",
       "      <td>0</td>\n",
       "      <td>0</td>\n",
       "      <td>0</td>\n",
       "      <td>0</td>\n",
       "      <td>0</td>\n",
       "      <td>0</td>\n",
       "      <td>0</td>\n",
       "    </tr>\n",
       "    <tr>\n",
       "      <th>1</th>\n",
       "      <td>0</td>\n",
       "      <td>0</td>\n",
       "      <td>0</td>\n",
       "      <td>0</td>\n",
       "      <td>0</td>\n",
       "      <td>0</td>\n",
       "      <td>0</td>\n",
       "      <td>0</td>\n",
       "      <td>0</td>\n",
       "      <td>0</td>\n",
       "      <td>...</td>\n",
       "      <td>0</td>\n",
       "      <td>0</td>\n",
       "      <td>0</td>\n",
       "      <td>0</td>\n",
       "      <td>0</td>\n",
       "      <td>0</td>\n",
       "      <td>0</td>\n",
       "      <td>0</td>\n",
       "      <td>0</td>\n",
       "      <td>0</td>\n",
       "    </tr>\n",
       "    <tr>\n",
       "      <th>2</th>\n",
       "      <td>1</td>\n",
       "      <td>0</td>\n",
       "      <td>0</td>\n",
       "      <td>0</td>\n",
       "      <td>0</td>\n",
       "      <td>0</td>\n",
       "      <td>0</td>\n",
       "      <td>0</td>\n",
       "      <td>0</td>\n",
       "      <td>0</td>\n",
       "      <td>...</td>\n",
       "      <td>0</td>\n",
       "      <td>0</td>\n",
       "      <td>0</td>\n",
       "      <td>0</td>\n",
       "      <td>0</td>\n",
       "      <td>0</td>\n",
       "      <td>0</td>\n",
       "      <td>0</td>\n",
       "      <td>0</td>\n",
       "      <td>0</td>\n",
       "    </tr>\n",
       "    <tr>\n",
       "      <th>3</th>\n",
       "      <td>4</td>\n",
       "      <td>0</td>\n",
       "      <td>0</td>\n",
       "      <td>0</td>\n",
       "      <td>0</td>\n",
       "      <td>0</td>\n",
       "      <td>0</td>\n",
       "      <td>0</td>\n",
       "      <td>0</td>\n",
       "      <td>0</td>\n",
       "      <td>...</td>\n",
       "      <td>0</td>\n",
       "      <td>0</td>\n",
       "      <td>0</td>\n",
       "      <td>0</td>\n",
       "      <td>0</td>\n",
       "      <td>0</td>\n",
       "      <td>0</td>\n",
       "      <td>0</td>\n",
       "      <td>0</td>\n",
       "      <td>0</td>\n",
       "    </tr>\n",
       "    <tr>\n",
       "      <th>4</th>\n",
       "      <td>0</td>\n",
       "      <td>0</td>\n",
       "      <td>0</td>\n",
       "      <td>0</td>\n",
       "      <td>0</td>\n",
       "      <td>0</td>\n",
       "      <td>0</td>\n",
       "      <td>0</td>\n",
       "      <td>0</td>\n",
       "      <td>0</td>\n",
       "      <td>...</td>\n",
       "      <td>0</td>\n",
       "      <td>0</td>\n",
       "      <td>0</td>\n",
       "      <td>0</td>\n",
       "      <td>0</td>\n",
       "      <td>0</td>\n",
       "      <td>0</td>\n",
       "      <td>0</td>\n",
       "      <td>0</td>\n",
       "      <td>0</td>\n",
       "    </tr>\n",
       "  </tbody>\n",
       "</table>\n",
       "<p>5 rows × 785 columns</p>\n",
       "</div>"
      ],
      "text/plain": [
       "   label  pixel0  pixel1  pixel2  pixel3  pixel4  pixel5  pixel6  pixel7  \\\n",
       "0      1       0       0       0       0       0       0       0       0   \n",
       "1      0       0       0       0       0       0       0       0       0   \n",
       "2      1       0       0       0       0       0       0       0       0   \n",
       "3      4       0       0       0       0       0       0       0       0   \n",
       "4      0       0       0       0       0       0       0       0       0   \n",
       "\n",
       "   pixel8  ...  pixel774  pixel775  pixel776  pixel777  pixel778  pixel779  \\\n",
       "0       0  ...         0         0         0         0         0         0   \n",
       "1       0  ...         0         0         0         0         0         0   \n",
       "2       0  ...         0         0         0         0         0         0   \n",
       "3       0  ...         0         0         0         0         0         0   \n",
       "4       0  ...         0         0         0         0         0         0   \n",
       "\n",
       "   pixel780  pixel781  pixel782  pixel783  \n",
       "0         0         0         0         0  \n",
       "1         0         0         0         0  \n",
       "2         0         0         0         0  \n",
       "3         0         0         0         0  \n",
       "4         0         0         0         0  \n",
       "\n",
       "[5 rows x 785 columns]"
      ]
     },
     "execution_count": 4,
     "metadata": {},
     "output_type": "execute_result"
    }
   ],
   "source": [
    "df.head()"
   ]
  },
  {
   "cell_type": "code",
   "execution_count": 5,
   "metadata": {
    "_uuid": "9ea5fe15af3b379f8b54cfb1d33270d4af34d001"
   },
   "outputs": [],
   "source": [
    "train, validation = train_test_split(df, test_size=0.2)"
   ]
  },
  {
   "cell_type": "code",
   "execution_count": 6,
   "metadata": {
    "_uuid": "1b32b7bb470acb574be777c0c6d0ee534bee3363"
   },
   "outputs": [],
   "source": [
    "x_train = train[pixels].values\n",
    "y_train = train[y_column].values\n",
    "\n",
    "x_val = validation[pixels].values\n",
    "y_val = validation[y_column].values"
   ]
  },
  {
   "cell_type": "code",
   "execution_count": 7,
   "metadata": {
    "_uuid": "1f1cd6a7e3e5a61eae8bd0187a356fa3fd9b86fb"
   },
   "outputs": [],
   "source": [
    "y_train = y_train.reshape((y_train.shape[0], 1))\n",
    "y_val = y_val.reshape((y_val.shape[0], 1))"
   ]
  },
  {
   "cell_type": "code",
   "execution_count": 8,
   "metadata": {
    "_uuid": "317a605716dc3858effa4ae795582d851ba086c8"
   },
   "outputs": [
    {
     "name": "stdout",
     "output_type": "stream",
     "text": [
      "(33600, 784) (33600, 1)\n"
     ]
    }
   ],
   "source": [
    "print(x_train.shape, y_train.shape)"
   ]
  },
  {
   "cell_type": "code",
   "execution_count": 9,
   "metadata": {},
   "outputs": [],
   "source": [
    "from sklearn.metrics import accuracy_score"
   ]
  },
  {
   "cell_type": "markdown",
   "metadata": {},
   "source": [
    "**1 Нейросеть**\n",
    "состоит из 3 скрытых слоев с дропаутом 0,25 и оптимизатором RMSprop"
   ]
  },
  {
   "cell_type": "code",
   "execution_count": 10,
   "metadata": {},
   "outputs": [],
   "source": [
    "y_all_pred = np.zeros((3, x_val.shape[0])).astype(np.int64) #matrix results"
   ]
  },
  {
   "cell_type": "code",
   "execution_count": 11,
   "metadata": {
    "_uuid": "c3a78547f058665e2251b934c5f390969ca19ccb"
   },
   "outputs": [
    {
     "name": "stdout",
     "output_type": "stream",
     "text": [
      "WARNING:tensorflow:From C:\\Users\\pisar\\Anaconda3\\lib\\site-packages\\keras\\backend\\tensorflow_backend.py:74: The name tf.get_default_graph is deprecated. Please use tf.compat.v1.get_default_graph instead.\n",
      "\n",
      "WARNING:tensorflow:From C:\\Users\\pisar\\Anaconda3\\lib\\site-packages\\keras\\backend\\tensorflow_backend.py:517: The name tf.placeholder is deprecated. Please use tf.compat.v1.placeholder instead.\n",
      "\n",
      "WARNING:tensorflow:From C:\\Users\\pisar\\Anaconda3\\lib\\site-packages\\keras\\backend\\tensorflow_backend.py:4138: The name tf.random_uniform is deprecated. Please use tf.random.uniform instead.\n",
      "\n",
      "WARNING:tensorflow:From C:\\Users\\pisar\\Anaconda3\\lib\\site-packages\\keras\\backend\\tensorflow_backend.py:133: The name tf.placeholder_with_default is deprecated. Please use tf.compat.v1.placeholder_with_default instead.\n",
      "\n",
      "WARNING:tensorflow:From C:\\Users\\pisar\\Anaconda3\\lib\\site-packages\\keras\\backend\\tensorflow_backend.py:3445: calling dropout (from tensorflow.python.ops.nn_ops) with keep_prob is deprecated and will be removed in a future version.\n",
      "Instructions for updating:\n",
      "Please use `rate` instead of `keep_prob`. Rate should be set to `rate = 1 - keep_prob`.\n"
     ]
    }
   ],
   "source": [
    "model1 = Sequential()\n",
    "model1.add(Dense(units = 64, activation = 'relu', input_dim = len(pixels)))\n",
    "model1.add(Dense(units = 32, activation = 'relu'))\n",
    "model1.add(Dropout(0.25))\n",
    "model1.add(Dense(units = 10, activation = 'softmax'))"
   ]
  },
  {
   "cell_type": "code",
   "execution_count": 12,
   "metadata": {
    "_uuid": "a4187b3adf699026f78f61b8bc54f71cfca357eb"
   },
   "outputs": [],
   "source": [
    "optimizer = RMSprop (lr = 0.001) #сколрость обучения"
   ]
  },
  {
   "cell_type": "code",
   "execution_count": 13,
   "metadata": {
    "_uuid": "5807a052114ddecefa25a294dc11e5d25e9dfaf2"
   },
   "outputs": [
    {
     "name": "stdout",
     "output_type": "stream",
     "text": [
      "WARNING:tensorflow:From C:\\Users\\pisar\\Anaconda3\\lib\\site-packages\\keras\\optimizers.py:790: The name tf.train.Optimizer is deprecated. Please use tf.compat.v1.train.Optimizer instead.\n",
      "\n",
      "WARNING:tensorflow:From C:\\Users\\pisar\\Anaconda3\\lib\\site-packages\\keras\\backend\\tensorflow_backend.py:3341: The name tf.log is deprecated. Please use tf.math.log instead.\n",
      "\n"
     ]
    }
   ],
   "source": [
    "model1.compile(optimizer = optimizer, loss = \"sparse_categorical_crossentropy\", metrics=[\"accuracy\"])"
   ]
  },
  {
   "cell_type": "code",
   "execution_count": 14,
   "metadata": {
    "_uuid": "c0409d8256f7e4731ab2300f758b71021c90157d",
    "scrolled": true
   },
   "outputs": [
    {
     "name": "stdout",
     "output_type": "stream",
     "text": [
      "WARNING:tensorflow:From C:\\Users\\pisar\\Anaconda3\\lib\\site-packages\\tensorflow\\python\\ops\\math_grad.py:1250: add_dispatch_support.<locals>.wrapper (from tensorflow.python.ops.array_ops) is deprecated and will be removed in a future version.\n",
      "Instructions for updating:\n",
      "Use tf.where in 2.0, which has the same broadcast rule as np.where\n",
      "Train on 33600 samples, validate on 8400 samples\n",
      "Epoch 1/50\n",
      "33600/33600 [==============================] - 6s 172us/step - loss: 7.3825 - acc: 0.5306 - val_loss: 5.5237 - val_acc: 0.6519\n",
      "Epoch 2/50\n",
      "33600/33600 [==============================] - 5s 162us/step - loss: 5.3004 - acc: 0.6619 - val_loss: 3.6996 - val_acc: 0.7631\n",
      "Epoch 3/50\n",
      "33600/33600 [==============================] - 5s 155us/step - loss: 4.0541 - acc: 0.7397 - val_loss: 3.0883 - val_acc: 0.8020\n",
      "Epoch 4/50\n",
      "33600/33600 [==============================] - 4s 129us/step - loss: 3.6344 - acc: 0.7661 - val_loss: 3.0858 - val_acc: 0.8045\n",
      "Epoch 5/50\n",
      "33600/33600 [==============================] - 4s 132us/step - loss: 3.4328 - acc: 0.7800 - val_loss: 3.2307 - val_acc: 0.7960\n",
      "Epoch 6/50\n",
      "33600/33600 [==============================] - 4s 122us/step - loss: 3.1148 - acc: 0.7988 - val_loss: 1.9329 - val_acc: 0.8742\n",
      "Epoch 7/50\n",
      "33600/33600 [==============================] - 4s 117us/step - loss: 2.3081 - acc: 0.8474 - val_loss: 1.6840 - val_acc: 0.8902\n",
      "Epoch 8/50\n",
      "33600/33600 [==============================] - 4s 116us/step - loss: 1.9432 - acc: 0.8717 - val_loss: 1.3778 - val_acc: 0.9106\n",
      "Epoch 9/50\n",
      "33600/33600 [==============================] - 5s 161us/step - loss: 1.7646 - acc: 0.8834 - val_loss: 1.3458 - val_acc: 0.9117\n",
      "Epoch 10/50\n",
      "33600/33600 [==============================] - 5s 138us/step - loss: 1.7645 - acc: 0.8810 - val_loss: 1.3206 - val_acc: 0.9138\n",
      "Epoch 11/50\n",
      "33600/33600 [==============================] - 4s 132us/step - loss: 1.5841 - acc: 0.8924 - val_loss: 1.1447 - val_acc: 0.9246\n",
      "Epoch 12/50\n",
      "33600/33600 [==============================] - 5s 138us/step - loss: 1.4349 - acc: 0.8940 - val_loss: 1.1054 - val_acc: 0.9202\n",
      "Epoch 13/50\n",
      "33600/33600 [==============================] - 4s 132us/step - loss: 1.0841 - acc: 0.8624 - val_loss: 0.9188 - val_acc: 0.8980\n",
      "Epoch 14/50\n",
      "33600/33600 [==============================] - 5s 145us/step - loss: 0.9502 - acc: 0.8484 - val_loss: 0.8034 - val_acc: 0.8998\n",
      "Epoch 15/50\n",
      "33600/33600 [==============================] - 5s 138us/step - loss: 0.9223 - acc: 0.8559 - val_loss: 0.8191 - val_acc: 0.8948\n",
      "Epoch 16/50\n",
      "33600/33600 [==============================] - 4s 130us/step - loss: 0.8947 - acc: 0.8498 - val_loss: 0.8485 - val_acc: 0.8717\n",
      "Epoch 17/50\n",
      "33600/33600 [==============================] - 5s 152us/step - loss: 0.9270 - acc: 0.8531 - val_loss: 0.8796 - val_acc: 0.9080\n",
      "Epoch 18/50\n",
      "33600/33600 [==============================] - 5s 135us/step - loss: 0.9722 - acc: 0.8573 - val_loss: 0.9210 - val_acc: 0.8704\n",
      "Epoch 19/50\n",
      "33600/33600 [==============================] - 4s 132us/step - loss: 0.9654 - acc: 0.8574 - val_loss: 0.7963 - val_acc: 0.8990\n",
      "Epoch 20/50\n",
      "33600/33600 [==============================] - 5s 142us/step - loss: 0.9151 - acc: 0.8525 - val_loss: 0.9212 - val_acc: 0.8992\n",
      "Epoch 21/50\n",
      "33600/33600 [==============================] - 8s 229us/step - loss: 0.9257 - acc: 0.8524 - val_loss: 0.9204 - val_acc: 0.8890\n",
      "Epoch 22/50\n",
      "33600/33600 [==============================] - 7s 222us/step - loss: 0.9724 - acc: 0.8593 - val_loss: 0.8043 - val_acc: 0.9096\n",
      "Epoch 23/50\n",
      "33600/33600 [==============================] - 6s 169us/step - loss: 1.0502 - acc: 0.8684 - val_loss: 0.8404 - val_acc: 0.9113\n",
      "Epoch 24/50\n",
      "33600/33600 [==============================] - 5s 163us/step - loss: 1.0518 - acc: 0.8658 - val_loss: 1.2852 - val_acc: 0.8923\n",
      "Epoch 25/50\n",
      "33600/33600 [==============================] - 5s 141us/step - loss: 1.0325 - acc: 0.8764 - val_loss: 0.8743 - val_acc: 0.9060\n",
      "Epoch 26/50\n",
      "33600/33600 [==============================] - 9s 266us/step - loss: 1.0523 - acc: 0.8684 - val_loss: 0.8324 - val_acc: 0.8998\n",
      "Epoch 27/50\n",
      "33600/33600 [==============================] - 7s 209us/step - loss: 1.1156 - acc: 0.8505 - val_loss: 0.7710 - val_acc: 0.8835\n",
      "Epoch 28/50\n",
      "33600/33600 [==============================] - 4s 123us/step - loss: 1.1006 - acc: 0.8644 - val_loss: 0.8673 - val_acc: 0.9063\n",
      "Epoch 29/50\n",
      "33600/33600 [==============================] - 4s 126us/step - loss: 1.1896 - acc: 0.8679 - val_loss: 0.9794 - val_acc: 0.9119\n",
      "Epoch 30/50\n",
      "33600/33600 [==============================] - 4s 132us/step - loss: 1.1470 - acc: 0.8749 - val_loss: 0.9670 - val_acc: 0.8799\n",
      "Epoch 31/50\n",
      "33600/33600 [==============================] - 4s 122us/step - loss: 1.1055 - acc: 0.8691 - val_loss: 1.1889 - val_acc: 0.9114\n",
      "Epoch 32/50\n",
      "33600/33600 [==============================] - 5s 147us/step - loss: 1.1802 - acc: 0.8774 - val_loss: 0.8671 - val_acc: 0.9105\n",
      "Epoch 33/50\n",
      "33600/33600 [==============================] - 5s 153us/step - loss: 1.0812 - acc: 0.8707 - val_loss: 1.0583 - val_acc: 0.8892\n",
      "Epoch 34/50\n",
      "33600/33600 [==============================] - 4s 119us/step - loss: 1.1157 - acc: 0.8707 - val_loss: 0.9606 - val_acc: 0.8649\n",
      "Epoch 35/50\n",
      "33600/33600 [==============================] - 4s 123us/step - loss: 1.2096 - acc: 0.8735 - val_loss: 0.9412 - val_acc: 0.9058\n",
      "Epoch 36/50\n",
      "33600/33600 [==============================] - 4s 125us/step - loss: 1.1369 - acc: 0.8605 - val_loss: 1.0130 - val_acc: 0.9098\n",
      "Epoch 37/50\n",
      "33600/33600 [==============================] - 4s 114us/step - loss: 1.0968 - acc: 0.8699 - val_loss: 1.0303 - val_acc: 0.8914\n",
      "Epoch 38/50\n",
      "33600/33600 [==============================] - 4s 124us/step - loss: 1.1149 - acc: 0.8745 - val_loss: 0.9187 - val_acc: 0.9058\n",
      "Epoch 39/50\n",
      "33600/33600 [==============================] - 4s 113us/step - loss: 1.2858 - acc: 0.8730 - val_loss: 1.1578 - val_acc: 0.8983\n",
      "Epoch 40/50\n",
      "33600/33600 [==============================] - 4s 109us/step - loss: 1.0901 - acc: 0.8678 - val_loss: 1.0756 - val_acc: 0.8675\n",
      "Epoch 41/50\n",
      "33600/33600 [==============================] - 4s 120us/step - loss: 1.0774 - acc: 0.8525 - val_loss: 0.9058 - val_acc: 0.8792\n",
      "Epoch 42/50\n",
      "33600/33600 [==============================] - 4s 130us/step - loss: 1.1494 - acc: 0.8695 - val_loss: 0.9120 - val_acc: 0.8585\n",
      "Epoch 43/50\n",
      "33600/33600 [==============================] - 4s 127us/step - loss: 1.1431 - acc: 0.8721 - val_loss: 0.9847 - val_acc: 0.9046\n",
      "Epoch 44/50\n",
      "33600/33600 [==============================] - 4s 127us/step - loss: 1.1601 - acc: 0.8713 - val_loss: 0.9424 - val_acc: 0.9080\n",
      "Epoch 45/50\n",
      "33600/33600 [==============================] - 4s 122us/step - loss: 1.1322 - acc: 0.8741 - val_loss: 1.0697 - val_acc: 0.9019\n",
      "Epoch 46/50\n",
      "33600/33600 [==============================] - 7s 199us/step - loss: 1.0750 - acc: 0.8771 - val_loss: 0.9915 - val_acc: 0.9154\n",
      "Epoch 47/50\n",
      "33600/33600 [==============================] - 4s 131us/step - loss: 1.1794 - acc: 0.8616 - val_loss: 0.9551 - val_acc: 0.8740\n",
      "Epoch 48/50\n",
      "33600/33600 [==============================] - 4s 117us/step - loss: 1.0919 - acc: 0.8631 - val_loss: 0.8221 - val_acc: 0.9033\n",
      "Epoch 49/50\n",
      "33600/33600 [==============================] - 4s 113us/step - loss: 0.9962 - acc: 0.8746 - val_loss: 0.8941 - val_acc: 0.9079\n",
      "Epoch 50/50\n",
      "33600/33600 [==============================] - 4s 113us/step - loss: 1.2164 - acc: 0.8824 - val_loss: 0.9334 - val_acc: 0.9096\n"
     ]
    }
   ],
   "source": [
    "history1 = model1.fit(x_train, y_train, validation_data = (x_val, y_val), epochs = 50, batch_size = 32)"
   ]
  },
  {
   "cell_type": "code",
   "execution_count": 15,
   "metadata": {
    "_uuid": "bbe3c77cdf47babd41fb418a738d6dce8d071f9f"
   },
   "outputs": [],
   "source": [
    "def plotgraph(history):\n",
    "    fig, ax = plt.subplots(2,1)\n",
    "    ax[0].plot(history.history['loss'], color = 'b', label = \"Training loss\")\n",
    "    ax[0].plot(history.history['val_loss'], color = 'r', label = \"Validation loss\", axes = ax[0])\n",
    "    legend = ax[0].legend(loc = 'best', shadow = True)\n",
    "    ax[1].plot(history.history['acc'], color = 'b', label = \"Training accurancy\")\n",
    "    ax[1].plot(history.history['val_acc'], color = 'r', label = \"Validation accurancy\")\n",
    "    legend = ax[1].legend(loc = 'best', shadow = True)"
   ]
  },
  {
   "cell_type": "code",
   "execution_count": 16,
   "metadata": {
    "_uuid": "31638b1c22fb183ccd3823ae211678d466235c6f"
   },
   "outputs": [
    {
     "data": {
      "image/png": "[encoded data removed]",
      "text/plain": [
       "<Figure size 432x288 with 2 Axes>"
      ]
     },
     "metadata": {
      "needs_background": "light"
     },
     "output_type": "display_data"
    }
   ],
   "source": [
    "plotgraph(history1)"
   ]
  },
  {
   "cell_type": "code",
   "execution_count": 17,
   "metadata": {},
   "outputs": [
    {
     "data": {
      "text/plain": [
       "0.9096428571428572"
      ]
     },
     "execution_count": 17,
     "metadata": {},
     "output_type": "execute_result"
    }
   ],
   "source": [
    "y_pred_mod1 = model1.predict_classes(x_val)\n",
    "accuracy_score(y_val, y_pred_mod1)"
   ]
  },
  {
   "cell_type": "code",
   "execution_count": 18,
   "metadata": {},
   "outputs": [],
   "source": [
    "y_all_pred[0] = y_pred_mod1"
   ]
  },
  {
   "cell_type": "markdown",
   "metadata": {},
   "source": [
    "**2 Нейросеть** с 4 скрытыми слоями дропаутом 0,25 и оптимизатором Adagrad"
   ]
  },
  {
   "cell_type": "code",
   "execution_count": 19,
   "metadata": {
    "_uuid": "aa9161022b1ba81587f4374a1ef1465ce6f25f04"
   },
   "outputs": [],
   "source": [
    "model2 = Sequential()\n",
    "model2.add(Dense(256, activation = 'relu', input_dim = len(pixels)))\n",
    "model2.add(Dense(128, activation = 'relu'))\n",
    "model2.add(Dense(64, activation = 'relu'))\n",
    "model2.add(Dropout(0.25))\n",
    "model2.add(Dense(10, activation = 'softmax'))"
   ]
  },
  {
   "cell_type": "code",
   "execution_count": 20,
   "metadata": {
    "_uuid": "e7058fc96ea7f321e653cdcde96fb332eb500caf"
   },
   "outputs": [],
   "source": [
    "optimizer2 = Adagrad()"
   ]
  },
  {
   "cell_type": "code",
   "execution_count": 21,
   "metadata": {
    "_uuid": "1f5c2b590607f106fe0e5550ca7cba849613a175"
   },
   "outputs": [],
   "source": [
    "model2.compile(optimizer = optimizer2, loss = \"sparse_categorical_crossentropy\", metrics=[\"accuracy\"])"
   ]
  },
  {
   "cell_type": "code",
   "execution_count": 22,
   "metadata": {
    "_uuid": "190d676eb0910f7e3723720ec4779fa0836285b0",
    "scrolled": true
   },
   "outputs": [
    {
     "name": "stdout",
     "output_type": "stream",
     "text": [
      "Train on 33600 samples, validate on 8400 samples\n",
      "Epoch 1/50\n",
      "33600/33600 [==============================] - 9s 253us/step - loss: 12.3373 - acc: 0.2333 - val_loss: 10.8237 - val_acc: 0.3264\n",
      "Epoch 2/50\n",
      "33600/33600 [==============================] - 9s 255us/step - loss: 9.5259 - acc: 0.4073 - val_loss: 7.8256 - val_acc: 0.5126\n",
      "Epoch 3/50\n",
      "33600/33600 [==============================] - 8s 238us/step - loss: 7.3691 - acc: 0.5400 - val_loss: 6.8460 - val_acc: 0.5731\n",
      "Epoch 4/50\n",
      "33600/33600 [==============================] - 8s 224us/step - loss: 6.5691 - acc: 0.5903 - val_loss: 6.1601 - val_acc: 0.6168\n",
      "Epoch 5/50\n",
      "33600/33600 [==============================] - 7s 221us/step - loss: 6.1030 - acc: 0.6194 - val_loss: 6.0230 - val_acc: 0.6248\n",
      "Epoch 6/50\n",
      "33600/33600 [==============================] - 8s 223us/step - loss: 5.9732 - acc: 0.6279 - val_loss: 5.8853 - val_acc: 0.6340\n",
      "Epoch 7/50\n",
      "33600/33600 [==============================] - 8s 229us/step - loss: 5.9064 - acc: 0.6318 - val_loss: 5.8470 - val_acc: 0.6367\n",
      "Epoch 8/50\n",
      "33600/33600 [==============================] - 10s 291us/step - loss: 5.8393 - acc: 0.6361 - val_loss: 5.9245 - val_acc: 0.6311\n",
      "Epoch 9/50\n",
      "33600/33600 [==============================] - 8s 233us/step - loss: 5.7236 - acc: 0.6434 - val_loss: 5.7140 - val_acc: 0.6444\n",
      "Epoch 10/50\n",
      "33600/33600 [==============================] - 8s 241us/step - loss: 5.6584 - acc: 0.6476 - val_loss: 5.6351 - val_acc: 0.6493\n",
      "Epoch 11/50\n",
      "33600/33600 [==============================] - 8s 245us/step - loss: 5.6295 - acc: 0.6491 - val_loss: 5.6664 - val_acc: 0.6476\n",
      "Epoch 12/50\n",
      "33600/33600 [==============================] - 8s 244us/step - loss: 5.5553 - acc: 0.6537 - val_loss: 5.6511 - val_acc: 0.6482\n",
      "Epoch 13/50\n",
      "33600/33600 [==============================] - 8s 250us/step - loss: 5.5365 - acc: 0.6552 - val_loss: 5.5866 - val_acc: 0.6525\n",
      "Epoch 14/50\n",
      "33600/33600 [==============================] - 8s 248us/step - loss: 5.4995 - acc: 0.6574 - val_loss: 5.5825 - val_acc: 0.6526\n",
      "Epoch 15/50\n",
      "33600/33600 [==============================] - 8s 245us/step - loss: 5.4602 - acc: 0.6601 - val_loss: 5.5185 - val_acc: 0.6567\n",
      "Epoch 16/50\n",
      "33600/33600 [==============================] - 8s 250us/step - loss: 5.4127 - acc: 0.6632 - val_loss: 5.4896 - val_acc: 0.6581\n",
      "Epoch 17/50\n",
      "33600/33600 [==============================] - 8s 249us/step - loss: 5.3974 - acc: 0.6637 - val_loss: 5.4942 - val_acc: 0.6581\n",
      "Epoch 18/50\n",
      "33600/33600 [==============================] - 8s 252us/step - loss: 5.3768 - acc: 0.6650 - val_loss: 5.4445 - val_acc: 0.6615\n",
      "Epoch 19/50\n",
      "33600/33600 [==============================] - 9s 254us/step - loss: 5.3608 - acc: 0.6662 - val_loss: 5.4453 - val_acc: 0.6613\n",
      "Epoch 20/50\n",
      "33600/33600 [==============================] - 9s 256us/step - loss: 5.3446 - acc: 0.6674 - val_loss: 5.4459 - val_acc: 0.6617\n",
      "Epoch 21/50\n",
      "33600/33600 [==============================] - 9s 255us/step - loss: 5.3471 - acc: 0.6671 - val_loss: 5.4200 - val_acc: 0.6627\n",
      "Epoch 22/50\n",
      "33600/33600 [==============================] - 8s 251us/step - loss: 5.3221 - acc: 0.6686 - val_loss: 5.4248 - val_acc: 0.6625\n",
      "Epoch 23/50\n",
      "33600/33600 [==============================] - 9s 254us/step - loss: 5.2878 - acc: 0.6709 - val_loss: 5.3906 - val_acc: 0.6650\n",
      "Epoch 24/50\n",
      "33600/33600 [==============================] - 8s 251us/step - loss: 5.2927 - acc: 0.6703 - val_loss: 5.3826 - val_acc: 0.6646\n",
      "Epoch 25/50\n",
      "33600/33600 [==============================] - 9s 256us/step - loss: 5.2726 - acc: 0.6717 - val_loss: 5.3917 - val_acc: 0.6645\n",
      "Epoch 26/50\n",
      "33600/33600 [==============================] - 9s 264us/step - loss: 5.2612 - acc: 0.6727 - val_loss: 5.4297 - val_acc: 0.6625\n",
      "Epoch 27/50\n",
      "33600/33600 [==============================] - 9s 260us/step - loss: 5.2457 - acc: 0.6733 - val_loss: 5.4029 - val_acc: 0.6639\n",
      "Epoch 28/50\n",
      "33600/33600 [==============================] - 9s 256us/step - loss: 5.2448 - acc: 0.6734 - val_loss: 5.3884 - val_acc: 0.6646\n",
      "Epoch 29/50\n",
      "33600/33600 [==============================] - 9s 255us/step - loss: 5.2372 - acc: 0.6738 - val_loss: 5.3959 - val_acc: 0.6640\n",
      "Epoch 30/50\n",
      "33600/33600 [==============================] - 9s 257us/step - loss: 5.2253 - acc: 0.6746 - val_loss: 5.3678 - val_acc: 0.6660\n",
      "Epoch 31/50\n",
      "33600/33600 [==============================] - 9s 278us/step - loss: 5.2177 - acc: 0.6749 - val_loss: 5.3797 - val_acc: 0.6655\n",
      "Epoch 32/50\n",
      "33600/33600 [==============================] - 9s 261us/step - loss: 4.8685 - acc: 0.6952 - val_loss: 4.0802 - val_acc: 0.7430\n",
      "Epoch 33/50\n",
      "33600/33600 [==============================] - 10s 287us/step - loss: 3.8816 - acc: 0.7565 - val_loss: 3.8283 - val_acc: 0.7611\n",
      "Epoch 34/50\n",
      "33600/33600 [==============================] - 12s 344us/step - loss: 3.6025 - acc: 0.7728 - val_loss: 2.8157 - val_acc: 0.8206\n",
      "Epoch 35/50\n",
      "33600/33600 [==============================] - 13s 382us/step - loss: 2.7921 - acc: 0.8217 - val_loss: 2.4785 - val_acc: 0.8421\n",
      "Epoch 36/50\n",
      "33600/33600 [==============================] - 9s 275us/step - loss: 2.5454 - acc: 0.8376 - val_loss: 2.4254 - val_acc: 0.8462\n",
      "Epoch 37/50\n",
      "33600/33600 [==============================] - 9s 257us/step - loss: 2.4391 - acc: 0.8445 - val_loss: 2.3795 - val_acc: 0.8490\n",
      "Epoch 38/50\n",
      "33600/33600 [==============================] - 9s 264us/step - loss: 2.0556 - acc: 0.8673 - val_loss: 1.1665 - val_acc: 0.9221\n",
      "Epoch 39/50\n",
      "33600/33600 [==============================] - 9s 275us/step - loss: 1.0606 - acc: 0.9270 - val_loss: 0.8714 - val_acc: 0.9405\n",
      "Epoch 40/50\n",
      "33600/33600 [==============================] - 10s 292us/step - loss: 0.8642 - acc: 0.9404 - val_loss: 0.8354 - val_acc: 0.9439\n",
      "Epoch 41/50\n",
      "33600/33600 [==============================] - 10s 297us/step - loss: 0.8023 - acc: 0.9438 - val_loss: 0.7818 - val_acc: 0.9468\n",
      "Epoch 42/50\n",
      "33600/33600 [==============================] - 8s 251us/step - loss: 0.7274 - acc: 0.9485 - val_loss: 0.7000 - val_acc: 0.9524\n",
      "Epoch 43/50\n",
      "33600/33600 [==============================] - 10s 295us/step - loss: 0.7040 - acc: 0.9501 - val_loss: 0.7170 - val_acc: 0.9513\n",
      "Epoch 44/50\n",
      "33600/33600 [==============================] - 21s 626us/step - loss: 0.6688 - acc: 0.9522 - val_loss: 0.6548 - val_acc: 0.9545\n",
      "Epoch 45/50\n",
      "33600/33600 [==============================] - 11s 335us/step - loss: 0.6180 - acc: 0.9564 - val_loss: 0.6481 - val_acc: 0.9554\n",
      "Epoch 46/50\n",
      "33600/33600 [==============================] - 13s 384us/step - loss: 0.5914 - acc: 0.9574 - val_loss: 0.6238 - val_acc: 0.9565\n",
      "Epoch 47/50\n",
      "33600/33600 [==============================] - 10s 294us/step - loss: 0.5603 - acc: 0.9594 - val_loss: 0.6409 - val_acc: 0.9539\n",
      "Epoch 48/50\n",
      "33600/33600 [==============================] - 11s 323us/step - loss: 0.5712 - acc: 0.9581 - val_loss: 0.6148 - val_acc: 0.9563\n",
      "Epoch 49/50\n",
      "33600/33600 [==============================] - 10s 310us/step - loss: 0.5179 - acc: 0.9607 - val_loss: 0.5719 - val_acc: 0.9593\n",
      "Epoch 50/50\n",
      "33600/33600 [==============================] - 10s 297us/step - loss: 0.5054 - acc: 0.9614 - val_loss: 0.5733 - val_acc: 0.9588\n"
     ]
    },
    {
     "data": {
      "image/png": "[encoded data removed]",
      "text/plain": [
       "<Figure size 432x288 with 2 Axes>"
      ]
     },
     "metadata": {
      "needs_background": "light"
     },
     "output_type": "display_data"
    }
   ],
   "source": [
    "history2 = model2.fit(x_train, y_train, validation_data = (x_val, y_val), epochs = 50, batch_size = 32)\n",
    "plotgraph(history2)"
   ]
  },
  {
   "cell_type": "code",
   "execution_count": 24,
   "metadata": {},
   "outputs": [
    {
     "data": {
      "image/png": "[encoded data removed]",
      "text/plain": [
       "<Figure size 432x288 with 2 Axes>"
      ]
     },
     "metadata": {
      "needs_background": "light"
     },
     "output_type": "display_data"
    }
   ],
   "source": [
    "plotgraph(history2)"
   ]
  },
  {
   "cell_type": "code",
   "execution_count": 25,
   "metadata": {},
   "outputs": [
    {
     "data": {
      "text/plain": [
       "0.9588095238095238"
      ]
     },
     "execution_count": 25,
     "metadata": {},
     "output_type": "execute_result"
    }
   ],
   "source": [
    "y_pred_mod2 = model2.predict_classes(x_val)\n",
    "accuracy_score(y_val, y_pred_mod2)"
   ]
  },
  {
   "cell_type": "code",
   "execution_count": 26,
   "metadata": {},
   "outputs": [],
   "source": [
    "y_all_pred[1] = y_pred_mod2"
   ]
  },
  {
   "cell_type": "markdown",
   "metadata": {},
   "source": [
    "Применим к этой модели другой оптимизатор - Adadelta"
   ]
  },
  {
   "cell_type": "code",
   "execution_count": 30,
   "metadata": {
    "_uuid": "996c589604e2b11c27259cf42a8577198fb94b95"
   },
   "outputs": [],
   "source": [
    "optimizer3 = Adadelta()\n",
    "model2.compile(optimizer = optimizer3, loss = \"sparse_categorical_crossentropy\", metrics=[\"accuracy\"])"
   ]
  },
  {
   "cell_type": "code",
   "execution_count": 31,
   "metadata": {
    "_uuid": "5a9441d5c5e4f1f370e7d01a384d7a5a32d75764",
    "scrolled": true
   },
   "outputs": [
    {
     "name": "stdout",
     "output_type": "stream",
     "text": [
      "Train on 33600 samples, validate on 8400 samples\n",
      "Epoch 1/30\n",
      "33600/33600 [==============================] - 6s 191us/step - loss: 0.3279 - acc: 0.9672 - val_loss: 0.4772 - val_acc: 0.9550\n",
      "Epoch 2/30\n",
      "33600/33600 [==============================] - 6s 171us/step - loss: 0.3278 - acc: 0.9637 - val_loss: 0.4766 - val_acc: 0.9521\n",
      "Epoch 3/30\n",
      "33600/33600 [==============================] - 6s 187us/step - loss: 0.3043 - acc: 0.9644 - val_loss: 0.3788 - val_acc: 0.9656\n",
      "Epoch 4/30\n",
      "33600/33600 [==============================] - 6s 168us/step - loss: 0.2877 - acc: 0.9707 - val_loss: 0.4642 - val_acc: 0.9637\n",
      "Epoch 5/30\n",
      "33600/33600 [==============================] - 5s 148us/step - loss: 0.2910 - acc: 0.9699 - val_loss: 0.3439 - val_acc: 0.9642\n",
      "Epoch 6/30\n",
      "33600/33600 [==============================] - 5s 148us/step - loss: 0.2842 - acc: 0.9655 - val_loss: 0.3766 - val_acc: 0.9617\n",
      "Epoch 7/30\n",
      "33600/33600 [==============================] - 5s 148us/step - loss: 0.3015 - acc: 0.9650 - val_loss: 0.4072 - val_acc: 0.9577\n",
      "Epoch 8/30\n",
      "33600/33600 [==============================] - 5s 151us/step - loss: 0.2771 - acc: 0.9705 - val_loss: 0.4151 - val_acc: 0.9668\n",
      "Epoch 9/30\n",
      "33600/33600 [==============================] - 5s 151us/step - loss: 0.2755 - acc: 0.9695 - val_loss: 0.4269 - val_acc: 0.9595\n",
      "Epoch 10/30\n",
      "33600/33600 [==============================] - 5s 155us/step - loss: 0.2829 - acc: 0.9695 - val_loss: 0.4237 - val_acc: 0.9643\n",
      "Epoch 11/30\n",
      "33600/33600 [==============================] - 5s 153us/step - loss: 0.2740 - acc: 0.9710 - val_loss: 0.3977 - val_acc: 0.9649\n",
      "Epoch 12/30\n",
      "33600/33600 [==============================] - 5s 150us/step - loss: 0.2809 - acc: 0.9706 - val_loss: 0.4241 - val_acc: 0.9649\n",
      "Epoch 13/30\n",
      "33600/33600 [==============================] - 5s 161us/step - loss: 0.2578 - acc: 0.9720 - val_loss: 0.3783 - val_acc: 0.9657\n",
      "Epoch 14/30\n",
      "33600/33600 [==============================] - 5s 162us/step - loss: 0.2495 - acc: 0.9738 - val_loss: 0.3816 - val_acc: 0.9662\n",
      "Epoch 15/30\n",
      "33600/33600 [==============================] - 5s 148us/step - loss: 0.2575 - acc: 0.9731 - val_loss: 0.4551 - val_acc: 0.9650\n",
      "Epoch 16/30\n",
      "33600/33600 [==============================] - 5s 146us/step - loss: 0.2656 - acc: 0.9753 - val_loss: 0.4521 - val_acc: 0.9638\n",
      "Epoch 17/30\n",
      "33600/33600 [==============================] - 5s 149us/step - loss: 0.2623 - acc: 0.9739 - val_loss: 0.4339 - val_acc: 0.9660\n",
      "Epoch 18/30\n",
      "33600/33600 [==============================] - 5s 148us/step - loss: 0.2570 - acc: 0.9717 - val_loss: 0.3983 - val_acc: 0.9662\n",
      "Epoch 19/30\n",
      "33600/33600 [==============================] - 5s 153us/step - loss: 0.2448 - acc: 0.9695 - val_loss: 0.4000 - val_acc: 0.9648\n",
      "Epoch 20/30\n",
      "33600/33600 [==============================] - 5s 148us/step - loss: 0.2362 - acc: 0.9713 - val_loss: 0.3956 - val_acc: 0.9632\n",
      "Epoch 21/30\n",
      "33600/33600 [==============================] - 6s 169us/step - loss: 0.2509 - acc: 0.9732 - val_loss: 0.4205 - val_acc: 0.9635\n",
      "Epoch 22/30\n",
      "33600/33600 [==============================] - 5s 151us/step - loss: 0.2500 - acc: 0.9717 - val_loss: 0.4149 - val_acc: 0.9662\n",
      "Epoch 23/30\n",
      "33600/33600 [==============================] - 5s 151us/step - loss: 0.2527 - acc: 0.9707 - val_loss: 0.3543 - val_acc: 0.9663\n",
      "Epoch 24/30\n",
      "33600/33600 [==============================] - 5s 162us/step - loss: 0.2327 - acc: 0.9711 - val_loss: 0.3689 - val_acc: 0.9699\n",
      "Epoch 25/30\n",
      "33600/33600 [==============================] - 5s 160us/step - loss: 0.2487 - acc: 0.9705 - val_loss: 0.3768 - val_acc: 0.9626\n",
      "Epoch 26/30\n",
      "33600/33600 [==============================] - 5s 150us/step - loss: 0.2318 - acc: 0.9741 - val_loss: 0.4114 - val_acc: 0.9683\n",
      "Epoch 27/30\n",
      "33600/33600 [==============================] - 5s 145us/step - loss: 0.2280 - acc: 0.9764 - val_loss: 0.3630 - val_acc: 0.9683\n",
      "Epoch 28/30\n",
      "33600/33600 [==============================] - 5s 155us/step - loss: 0.2406 - acc: 0.9759 - val_loss: 0.4526 - val_acc: 0.9670\n",
      "Epoch 29/30\n",
      "33600/33600 [==============================] - 5s 159us/step - loss: 0.2457 - acc: 0.9756 - val_loss: 0.4082 - val_acc: 0.9673\n",
      "Epoch 30/30\n",
      "33600/33600 [==============================] - 5s 153us/step - loss: 0.2295 - acc: 0.9750 - val_loss: 0.3894 - val_acc: 0.9652\n"
     ]
    },
    {
     "data": {
      "image/png": "[encoded data removed]",
      "text/plain": [
       "<Figure size 432x288 with 2 Axes>"
      ]
     },
     "metadata": {
      "needs_background": "light"
     },
     "output_type": "display_data"
    }
   ],
   "source": [
    "history3 = model2.fit(x_train, y_train, validation_data = (x_val, y_val), epochs = 30, batch_size = 64)\n",
    "plotgraph(history3)"
   ]
  },
  {
   "cell_type": "code",
   "execution_count": 32,
   "metadata": {},
   "outputs": [
    {
     "data": {
      "image/png": "[encoded data removed]",
      "text/plain": [
       "<Figure size 432x288 with 2 Axes>"
      ]
     },
     "metadata": {
      "needs_background": "light"
     },
     "output_type": "display_data"
    }
   ],
   "source": [
    "plotgraph(history3)"
   ]
  },
  {
   "cell_type": "code",
   "execution_count": 33,
   "metadata": {},
   "outputs": [
    {
     "data": {
      "text/plain": [
       "0.9652380952380952"
      ]
     },
     "execution_count": 33,
     "metadata": {},
     "output_type": "execute_result"
    }
   ],
   "source": [
    "y_pred_mod3 = model2.predict_classes(x_val)\n",
    "accuracy_score(y_val, y_pred_mod3)"
   ]
  },
  {
   "cell_type": "code",
   "execution_count": 34,
   "metadata": {},
   "outputs": [],
   "source": [
    "y_all_pred[2] = y_pred_mod3"
   ]
  },
  {
   "cell_type": "markdown",
   "metadata": {
    "_uuid": "adc72863ecd751fabb9ca9e1fc2aad89c4443754",
    "collapsed": true
   },
   "source": [
    "Как видим две простые полносвязные нейросети показали довольно посредственные результаты, лучший из которых 0.95 \n",
    "\n",
    "**3 Нейросеть** -сверточная, должна показать лучший результат"
   ]
  },
  {
   "cell_type": "code",
   "execution_count": 35,
   "metadata": {},
   "outputs": [],
   "source": [
    "import tensorflow as tf\n",
    "import keras\n",
    "from keras.models import Sequential\n",
    "from keras.layers import Dense, Dropout, Activation, Reshape, Conv2D, AveragePooling2D, Flatten\n",
    "from keras.layers import MaxPooling2D\n",
    "from keras.optimizers import adam\n",
    "\n",
    "y_train_cnn = keras.utils.to_categorical(y_train, num_classes=10) #преобразует метки классов в бинарную матрицу"
   ]
  },
  {
   "cell_type": "code",
   "execution_count": 37,
   "metadata": {},
   "outputs": [
    {
     "name": "stderr",
     "output_type": "stream",
     "text": [
      "C:\\Users\\pisar\\Anaconda3\\lib\\site-packages\\ipykernel_launcher.py:9: UserWarning: Update your `Dense` call to the Keras 2 API: `Dense(activation=\"relu\", units=120)`\n",
      "  if __name__ == '__main__':\n",
      "C:\\Users\\pisar\\Anaconda3\\lib\\site-packages\\ipykernel_launcher.py:11: UserWarning: Update your `Dense` call to the Keras 2 API: `Dense(activation=\"relu\", units=120)`\n",
      "  # This is added back by InteractiveShellApp.init_path()\n",
      "C:\\Users\\pisar\\Anaconda3\\lib\\site-packages\\ipykernel_launcher.py:12: UserWarning: Update your `Dense` call to the Keras 2 API: `Dense(activation=\"softmax\", units=10)`\n",
      "  if sys.path[0] == '':\n"
     ]
    }
   ],
   "source": [
    "model_cnn = Sequential()\n",
    "model_cnn.add(Reshape(target_shape=(1, 28, 28), input_shape=(784,)))\n",
    "model_cnn.add(Conv2D(kernel_size=(3, 3), filters=6, padding=\"same\", data_format=\"channels_first\", kernel_initializer=\"uniform\", use_bias=False))\n",
    "model_cnn.add(MaxPooling2D(pool_size=(2, 2), data_format=\"channels_first\"))\n",
    "model_cnn.add(Conv2D(kernel_size=(5, 5), filters=16, padding=\"same\", data_format=\"channels_first\", kernel_initializer=\"uniform\", use_bias=False))\n",
    "model_cnn.add(MaxPooling2D(pool_size=(2, 2), data_format=\"channels_first\"))\n",
    "model_cnn.add(Conv2D(kernel_size=(5, 5), filters=120, padding=\"same\", data_format=\"channels_first\", kernel_initializer=\"uniform\", use_bias=False))\n",
    "model_cnn.add(Flatten())\n",
    "model_cnn.add(Dense(output_dim=120, activation='relu'))\n",
    "model_cnn.add(Dropout(0.25))\n",
    "model_cnn.add(Dense(output_dim=120, activation='relu'))\n",
    "model_cnn.add(Dense(output_dim=10, activation='softmax'))"
   ]
  },
  {
   "cell_type": "code",
   "execution_count": 38,
   "metadata": {},
   "outputs": [],
   "source": [
    "adam = keras.optimizers.Adam(lr=0.0005, beta_1=0.9, beta_2=0.999, epsilon=1e-08)\n",
    "model_cnn.compile(loss='categorical_crossentropy', optimizer=adam, metrics=['accuracy'])"
   ]
  },
  {
   "cell_type": "code",
   "execution_count": 39,
   "metadata": {
    "scrolled": true
   },
   "outputs": [
    {
     "name": "stdout",
     "output_type": "stream",
     "text": [
      "Epoch 1/30\n",
      "33600/33600 [==============================] - 33s 970us/step - loss: 0.2642 - acc: 0.9179\n",
      "Epoch 2/30\n",
      "33600/33600 [==============================] - 29s 878us/step - loss: 0.1093 - acc: 0.9668\n",
      "Epoch 3/30\n",
      "33600/33600 [==============================] - 29s 873us/step - loss: 0.0837 - acc: 0.9736\n",
      "Epoch 4/30\n",
      "33600/33600 [==============================] - 32s 953us/step - loss: 0.0726 - acc: 0.9774\n",
      "Epoch 5/30\n",
      "33600/33600 [==============================] - 28s 820us/step - loss: 0.0657 - acc: 0.9796\n",
      "Epoch 6/30\n",
      "33600/33600 [==============================] - 29s 876us/step - loss: 0.0599 - acc: 0.9816\n",
      "Epoch 7/30\n",
      "33600/33600 [==============================] - 32s 955us/step - loss: 0.0600 - acc: 0.9821\n",
      "Epoch 8/30\n",
      "33600/33600 [==============================] - 29s 874us/step - loss: 0.0519 - acc: 0.9845\n",
      "Epoch 9/30\n",
      "33600/33600 [==============================] - 29s 868us/step - loss: 0.0599 - acc: 0.9827\n",
      "Epoch 10/30\n",
      "33600/33600 [==============================] - 30s 897us/step - loss: 0.0547 - acc: 0.9843\n",
      "Epoch 11/30\n",
      "33600/33600 [==============================] - 31s 928us/step - loss: 0.0445 - acc: 0.9863\n",
      "Epoch 12/30\n",
      "33600/33600 [==============================] - 34s 1ms/step - loss: 0.0490 - acc: 0.9858\n",
      "Epoch 13/30\n",
      "33600/33600 [==============================] - 32s 963us/step - loss: 0.0486 - acc: 0.9855\n",
      "Epoch 14/30\n",
      "33600/33600 [==============================] - 27s 794us/step - loss: 0.0420 - acc: 0.9876\n",
      "Epoch 15/30\n",
      "33600/33600 [==============================] - 30s 888us/step - loss: 0.0519 - acc: 0.9855\n",
      "Epoch 16/30\n",
      "33600/33600 [==============================] - 31s 917us/step - loss: 0.0404 - acc: 0.9882\n",
      "Epoch 17/30\n",
      "33600/33600 [==============================] - 31s 924us/step - loss: 0.0504 - acc: 0.9860\n",
      "Epoch 18/30\n",
      "33600/33600 [==============================] - 28s 823us/step - loss: 0.0292 - acc: 0.9913\n",
      "Epoch 19/30\n",
      "33600/33600 [==============================] - 29s 859us/step - loss: 0.0422 - acc: 0.9876\n",
      "Epoch 20/30\n",
      "33600/33600 [==============================] - 31s 923us/step - loss: 0.0451 - acc: 0.98740s - loss: 0.0450 - acc: 0.987\n",
      "Epoch 21/30\n",
      "33600/33600 [==============================] - 27s 793us/step - loss: 0.0359 - acc: 0.9897\n",
      "Epoch 22/30\n",
      "33600/33600 [==============================] - 27s 795us/step - loss: 0.0357 - acc: 0.9898\n",
      "Epoch 23/30\n",
      "33600/33600 [==============================] - 29s 876us/step - loss: 0.0385 - acc: 0.9890\n",
      "Epoch 24/30\n",
      "33600/33600 [==============================] - 26s 788us/step - loss: 0.0372 - acc: 0.9893\n",
      "Epoch 25/30\n",
      "33600/33600 [==============================] - 29s 867us/step - loss: 0.0398 - acc: 0.9894\n",
      "Epoch 26/30\n",
      "33600/33600 [==============================] - 29s 849us/step - loss: 0.0327 - acc: 0.9908\n",
      "Epoch 27/30\n",
      "33600/33600 [==============================] - 30s 897us/step - loss: 0.0318 - acc: 0.9915\n",
      "Epoch 28/30\n",
      "33600/33600 [==============================] - 29s 864us/step - loss: 0.0368 - acc: 0.9904\n",
      "Epoch 29/30\n",
      "33600/33600 [==============================] - 29s 869us/step - loss: 0.0400 - acc: 0.98951s \n",
      "Epoch 30/30\n",
      "33600/33600 [==============================] - 29s 850us/step - loss: 0.0317 - acc: 0.9915\n"
     ]
    },
    {
     "data": {
      "text/plain": [
       "<keras.callbacks.History at 0x24ba14961d0>"
      ]
     },
     "execution_count": 39,
     "metadata": {},
     "output_type": "execute_result"
    }
   ],
   "source": [
    "model_cnn.fit(x_train, y_train_cnn, epochs=30, batch_size=64)"
   ]
  },
  {
   "cell_type": "code",
   "execution_count": 40,
   "metadata": {},
   "outputs": [],
   "source": [
    "y_pred_cnn = model_cnn.predict_classes(x_val)"
   ]
  },
  {
   "cell_type": "code",
   "execution_count": 41,
   "metadata": {},
   "outputs": [
    {
     "data": {
      "text/plain": [
       "0.9841666666666666"
      ]
     },
     "execution_count": 41,
     "metadata": {},
     "output_type": "execute_result"
    }
   ],
   "source": [
    "accuracy_score(y_val, y_pred_cnn)"
   ]
  },
  {
   "cell_type": "markdown",
   "metadata": {},
   "source": [
    "**4 Нейросеть** - ансамбль из слабых нейросетей"
   ]
  },
  {
   "cell_type": "code",
   "execution_count": 55,
   "metadata": {},
   "outputs": [
    {
     "name": "stdout",
     "output_type": "stream",
     "text": [
      "(8400,) [4. 3. 8. ... 1. 4. 0.]\n"
     ]
    }
   ],
   "source": [
    "y_ensem_pred = np.zeros((x_val.shape[0],))\n",
    "for i,line in enumerate(y_all_pred.T):\n",
    "    y_ensem_pred[i] = np.argmax(np.bincount(line))\n",
    "print(y_ensem_pred.shape, y_ensem_pred)\n",
    "y_ensem_pred = y_ensem_pred.astype(\"int64\")"
   ]
  },
  {
   "cell_type": "code",
   "execution_count": 56,
   "metadata": {},
   "outputs": [
    {
     "data": {
      "text/plain": [
       "0.963452380952381"
      ]
     },
     "execution_count": 56,
     "metadata": {},
     "output_type": "execute_result"
    }
   ],
   "source": [
    "accuracy_score(y_ensem_pred, y_val)"
   ]
  },
  {
   "cell_type": "markdown",
   "metadata": {},
   "source": [
    "Качество улучшилось"
   ]
  },
  {
   "cell_type": "code",
   "execution_count": null,
   "metadata": {},
   "outputs": [],
   "source": []
  }
 ],
 "metadata": {
  "kernelspec": {
   "display_name": "Python 3",
   "language": "python",
   "name": "python3"
  },
  "language_info": {
   "codemirror_mode": {
    "name": "ipython",
    "version": 3
   },
   "file_extension": ".py",
   "mimetype": "text/x-python",
   "name": "python",
   "nbconvert_exporter": "python",
   "pygments_lexer": "ipython3",
   "version": "3.6.7"
  }
 },
 "nbformat": 4,
 "nbformat_minor": 1
}
